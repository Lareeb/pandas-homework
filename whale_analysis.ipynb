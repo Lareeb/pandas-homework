{
 "cells": [
  {
   "cell_type": "markdown",
   "metadata": {},
   "source": [
    " #  A Whale off the Port(folio)\n",
    " ---\n",
    "\n",
    " In this assignment, you'll get to use what you've learned this week to evaluate the performance among various algorithmic, hedge, and mutual fund portfolios and compare them against the S&P 500 Index."
   ]
  },
  {
   "cell_type": "code",
   "execution_count": 14,
   "metadata": {},
   "outputs": [],
   "source": [
    "# Initial imports\n",
    "import pandas as pd\n",
    "import numpy as np\n",
    "import datetime as dt\n",
    "from pathlib import Path\n",
    "\n",
    "%matplotlib inline"
   ]
  },
  {
   "cell_type": "markdown",
   "metadata": {},
   "source": [
    "# Data Cleaning\n",
    "\n",
    "In this section, you will need to read the CSV files into DataFrames and perform any necessary data cleaning steps. After cleaning, combine all DataFrames into a single DataFrame.\n",
    "\n",
    "Files:\n",
    "\n",
    "* `whale_returns.csv`: Contains returns of some famous \"whale\" investors' portfolios.\n",
    "\n",
    "* `algo_returns.csv`: Contains returns from the in-house trading algorithms from Harold's company.\n",
    "\n",
    "* `sp500_history.csv`: Contains historical closing prices of the S&P 500 Index."
   ]
  },
  {
   "cell_type": "markdown",
   "metadata": {},
   "source": [
    "## Whale Returns\n",
    "\n",
    "Read the Whale Portfolio daily returns and clean the data"
   ]
  },
  {
   "cell_type": "code",
   "execution_count": null,
   "metadata": {},
   "outputs": [],
   "source": [
    "# Reading whale returns\n",
    "whale_returns = pd.read_csv(\"whale_returns.csv\", index_col=\"Date\", parse_dates = True)\n",
    "whale_returns.head()"
   ]
  },
  {
   "cell_type": "code",
   "execution_count": null,
   "metadata": {},
   "outputs": [],
   "source": [
    "# Count nulls\n",
    "whale_returns.isnull().sum()"
   ]
  },
  {
   "cell_type": "code",
   "execution_count": null,
   "metadata": {},
   "outputs": [],
   "source": [
    "# Drop nulls\n",
    "whale_returns.dropna(inplace = True)\n",
    "whale_returns.isnull().sum()"
   ]
  },
  {
   "cell_type": "markdown",
   "metadata": {},
   "source": [
    "## Algorithmic Daily Returns\n",
    "\n",
    "Read the algorithmic daily returns and clean the data"
   ]
  },
  {
   "cell_type": "code",
   "execution_count": null,
   "metadata": {},
   "outputs": [],
   "source": [
    "# Reading algorithmic returns\n",
    "algo_returns = pd.read_csv(\"algo_returns.csv\", index_col=\"Date\", parse_dates = True)\n",
    "algo_returns.head("
   ]
  },
  {
   "cell_type": "code",
   "execution_count": null,
   "metadata": {},
   "outputs": [],
   "source": [
    "# Count nulls\n",
    "algo_returns.isnull().sum()"
   ]
  },
  {
   "cell_type": "code",
   "execution_count": null,
   "metadata": {},
   "outputs": [],
   "source": [
    "# Drop nulls\n",
    "algo_returns = algo_returns.dropna()\n",
    "algo_returns.head()"
   ]
  },
  {
   "cell_type": "markdown",
   "metadata": {},
   "source": [
    "## S&P 500 Returns\n",
    "\n",
    "Read the S&P 500 historic closing prices and create a new daily returns DataFrame from the data. "
   ]
  },
  {
   "cell_type": "code",
   "execution_count": null,
   "metadata": {},
   "outputs": [],
   "source": [
    "# Reading S&P 500 Closing Prices\n",
    "sp500_history = pd.read_csv(\"sp500_history.csv\", index_col=\"Date\", parse_dates = True)\n",
    "sp500_history.head()"
   ]
  },
  {
   "cell_type": "code",
   "execution_count": null,
   "metadata": {},
   "outputs": [],
   "source": [
    "# Check Data Types\n",
    "sp500_history.info()"
   ]
  },
  {
   "cell_type": "code",
   "execution_count": null,
   "metadata": {},
   "outputs": [],
   "source": [
    "# Fix Data Types\n",
    "sp500_history.head()\n",
    "sp500_history[\"Close\"]= sp500_history[\"Close\"].str.replace(\"$\",\" \")\n",
    "sp500_history.head()\n",
    "sp500_history[\"Close\"] = sp500_history[\"Close\"].astype(\"float\")"
   ]
  },
  {
   "cell_type": "code",
   "execution_count": null,
   "metadata": {},
   "outputs": [],
   "source": [
    "# Calculate Daily Returns\n",
    "sp500_history[\"Close\"].pct_change()\n",
    "sp500_history[\"Close\"]= sp500_history[\"Close\"].pct_change()\n",
    "sp500_history.head()"
   ]
  },
  {
   "cell_type": "code",
   "execution_count": null,
   "metadata": {},
   "outputs": [],
   "source": [
    "# Drop nulls\n",
    "sp500_history = sp500_history.dropna()\n",
    "sp500_history.head()"
   ]
  },
  {
   "cell_type": "code",
   "execution_count": null,
   "metadata": {},
   "outputs": [],
   "source": [
    "# Rename `Close` Column to be specific to this portfolio.\n",
    "sp500_history.columns=[\"S&P Returns\"]\n",
    "sp500_history.head()"
   ]
  },
  {
   "cell_type": "markdown",
   "metadata": {},
   "source": [
    "## Combine Whale, Algorithmic, and S&P 500 Returns"
   ]
  },
  {
   "cell_type": "code",
   "execution_count": null,
   "metadata": {},
   "outputs": [],
   "source": [
    "# Join Whale Returns, Algorithmic Returns, and the S&P 500 Returns into a single DataFrame with columns for each portfolio's returns.\n",
    "combined_return = pd.concat([whale_returns, algo_returns, sp500_history],axis=\"columns\", join=\"inner\")\n",
    "combined_return.head()"
   ]
  },
  {
   "cell_type": "markdown",
   "metadata": {},
   "source": [
    "---"
   ]
  },
  {
   "cell_type": "markdown",
   "metadata": {},
   "source": [
    "# Conduct Quantitative Analysis\n",
    "\n",
    "In this section, you will calculate and visualize performance and risk metrics for the portfolios."
   ]
  },
  {
   "cell_type": "markdown",
   "metadata": {},
   "source": [
    "## Performance Anlysis\n",
    "\n",
    "#### Calculate and Plot the daily returns."
   ]
  },
  {
   "cell_type": "code",
   "execution_count": null,
   "metadata": {},
   "outputs": [],
   "source": [
    "# Plot daily returns of all portfolios\n",
    "combined_return.plot(figsize=(8,6))"
   ]
  },
  {
   "cell_type": "markdown",
   "metadata": {},
   "source": [
    "#### Calculate and Plot cumulative returns."
   ]
  },
  {
   "cell_type": "code",
   "execution_count": null,
   "metadata": {},
   "outputs": [],
   "source": [
    "# Calculate cumulative returns of all portfolios\n",
    "cumulative_return = (1+combined_return).cumprod()\n",
    "# Plot cumulative returns\n",
    "cumulative_return.plot(figsize=(8,6))"
   ]
  },
  {
   "cell_type": "markdown",
   "metadata": {},
   "source": [
    "---"
   ]
  },
  {
   "cell_type": "markdown",
   "metadata": {},
   "source": [
    "## Risk Analysis\n",
    "\n",
    "Determine the _risk_ of each portfolio:\n",
    "\n",
    "1. Create a box plot for each portfolio. \n",
    "2. Calculate the standard deviation for all portfolios\n",
    "4. Determine which portfolios are riskier than the S&P 500\n",
    "5. Calculate the Annualized Standard Deviation"
   ]
  },
  {
   "cell_type": "markdown",
   "metadata": {},
   "source": [
    "### Create a box plot for each portfolio\n"
   ]
  },
  {
   "cell_type": "code",
   "execution_count": null,
   "metadata": {},
   "outputs": [],
   "source": [
    "# Box plot to visually show risk\n",
    "whale_returns.boxplot(figsize=(8,10))\n",
    "algo_returns.boxplot(figsize=(8,10))\n",
    "sp500_history.boxplot(figsize=(8,10))"
   ]
  },
  {
   "cell_type": "markdown",
   "metadata": {},
   "source": [
    "### Calculate Standard Deviations"
   ]
  },
  {
   "cell_type": "code",
   "execution_count": null,
   "metadata": {},
   "outputs": [],
   "source": [
    "# Calculate the daily standard deviations of all portfolios\n",
    "stand_dev_calcs = combined_return.std()\n",
    "stand_dev_calcs.head(6)"
   ]
  },
  {
   "cell_type": "markdown",
   "metadata": {},
   "source": [
    "### Determine which portfolios are riskier than the S&P 500"
   ]
  },
  {
   "cell_type": "code",
   "execution_count": null,
   "metadata": {},
   "outputs": [],
   "source": [
    "# Calculate  the daily standard deviation of S&P 500\n",
    "sp500_history.std()\n",
    "# Determine which portfolios are riskier than the S&P 500\n",
    "print(\"The riskier portfolios are Tiger Global Management and Berkshire Hathaway, Inc.\")"
   ]
  },
  {
   "cell_type": "markdown",
   "metadata": {},
   "source": [
    "### Calculate the Annualized Standard Deviation"
   ]
  },
  {
   "cell_type": "code",
   "execution_count": null,
   "metadata": {},
   "outputs": [],
   "source": [
    "# Calculate the annualized standard deviation (252 trading days)\n",
    "annualized_deviation = stand_dev_calcs.var() *252\n",
    "np.sqrt(annualized_deviation)\n",
    "print(\"The annualized standard deviation is\" + str(annualized_deviation))"
   ]
  },
  {
   "cell_type": "markdown",
   "metadata": {},
   "source": [
    "---"
   ]
  },
  {
   "cell_type": "markdown",
   "metadata": {},
   "source": [
    "## Rolling Statistics\n",
    "\n",
    "Risk changes over time. Analyze the rolling statistics for Risk and Beta. \n",
    "\n",
    "1. Calculate and plot the rolling standard deviation for the S&P 500 using a 21-day window\n",
    "2. Calculate the correlation between each stock to determine which portfolios may mimick the S&P 500\n",
    "3. Choose one portfolio, then calculate and plot the 60-day rolling beta between it and the S&P 500"
   ]
  },
  {
   "cell_type": "markdown",
   "metadata": {},
   "source": [
    "### Calculate and plot rolling `std` for all portfolios with 21-day window"
   ]
  },
  {
   "cell_type": "code",
   "execution_count": null,
   "metadata": {},
   "outputs": [],
   "source": [
    "# Calculate the rolling standard deviation for all portfolios using a 21-day window\n",
    "rolling_deviation = combined_return.rolling(window=21).std()\n",
    "# Plot the rolling standard deviation\n",
    "rolling_deviation.plot(figsize=(10,10))"
   ]
  },
  {
   "cell_type": "markdown",
   "metadata": {},
   "source": [
    "### Calculate and plot the correlation"
   ]
  },
  {
   "cell_type": "code",
   "execution_count": null,
   "metadata": {},
   "outputs": [],
   "source": [
    "# Calculate the correlation\n",
    "correlation = combined_return.corr()\n",
    "# Display de correlation matrix\n",
    "correlation"
   ]
  },
  {
   "cell_type": "markdown",
   "metadata": {},
   "source": [
    "### Calculate and Plot Beta for a chosen portfolio and the S&P 500"
   ]
  },
  {
   "cell_type": "code",
   "execution_count": null,
   "metadata": {},
   "outputs": [],
   "source": [
    "# Calculate covariance of a single portfolio\n",
    "whale_returns_covariance = combined_return[\"Algo 2\"].rolling(window=21).cov(combined_return[\"Whale Returns\"])\n",
    "whale_returns_variance = combined_return[\"Algo 2\"].rolling(window=21).var()\n",
    "# Calculate variance of S&P 500\n",
    "sp500_covariance = combined_return[\"Algo 2\"].rolling(window=21).cov(combined_return[\"S&P Returns\"])\n",
    "sp500_variance = combined_return[\"Algo 2\"].rolling(window=21).var()\n",
    "# Computing beta\n",
    "algo2_beta = sp500_covariance / sp500_variance\n",
    "# Plot beta trend\n",
    "algo2_beta.plot(figsize = (10,12))"
   ]
  },
  {
   "cell_type": "markdown",
   "metadata": {},
   "source": [
    "## Rolling Statistics Challenge: Exponentially Weighted Average \n",
    "\n",
    "An alternative way to calculate a rolling window is to take the exponentially weighted moving average. This is like a moving window average, but it assigns greater importance to more recent observations. Try calculating the [`ewm`](https://pandas.pydata.org/pandas-docs/stable/reference/api/pandas.DataFrame.ewm.html) with a 21-day half-life."
   ]
  },
  {
   "cell_type": "code",
   "execution_count": null,
   "metadata": {},
   "outputs": [],
   "source": [
    "# Use `ewm` to calculate the rolling window\n",
    "\n"
   ]
  },
  {
   "cell_type": "markdown",
   "metadata": {},
   "source": [
    "---"
   ]
  },
  {
   "cell_type": "markdown",
   "metadata": {},
   "source": [
    "# Sharpe Ratios\n",
    "In reality, investment managers and thier institutional investors look at the ratio of return-to-risk, and not just returns alone. After all, if you could invest in one of two portfolios, and each offered the same 10% return, yet one offered lower risk, you'd take that one, right?\n",
    "\n",
    "### Using the daily returns, calculate and visualize the Sharpe ratios using a bar plot"
   ]
  },
  {
   "cell_type": "code",
   "execution_count": null,
   "metadata": {},
   "outputs": [],
   "source": [
    "# Annualized Sharpe Ratios\n",
    "sharpe_ratios = combined_return - combined_return / stand_dev_calcs\n",
    "sharpe_ratios"
   ]
  },
  {
   "cell_type": "code",
   "execution_count": null,
   "metadata": {},
   "outputs": [],
   "source": [
    "# Visualize the sharpe ratios as a bar plot\n",
    "sharpe_ratios.plot(figsize= (8,10))"
   ]
  },
  {
   "cell_type": "markdown",
   "metadata": {},
   "source": [
    "### Determine whether the algorithmic strategies outperform both the market (S&P 500) and the whales portfolios.\n",
    "\n",
    "Write your answer here! = Tiger Global outperforms both"
   ]
  },
  {
   "cell_type": "markdown",
   "metadata": {},
   "source": [
    "---"
   ]
  },
  {
   "cell_type": "markdown",
   "metadata": {},
   "source": [
    "# Create Custom Portfolio\n",
    "\n",
    "In this section, you will build your own portfolio of stocks, calculate the returns, and compare the results to the Whale Portfolios and the S&P 500. \n",
    "\n",
    "1. Choose 3-5 custom stocks with at last 1 year's worth of historic prices and create a DataFrame of the closing prices and dates for each stock.\n",
    "2. Calculate the weighted returns for the portfolio assuming an equal number of shares for each stock\n",
    "3. Join your portfolio returns to the DataFrame that contains all of the portfolio returns\n",
    "4. Re-run the performance and risk analysis with your portfolio to see how it compares to the others\n",
    "5. Include correlation analysis to determine which stocks (if any) are correlated"
   ]
  },
  {
   "cell_type": "markdown",
   "metadata": {
    "tags": []
   },
   "source": [
    "## Choose 3-5 custom stocks with at last 1 year's worth of historic prices and create a DataFrame of the closing prices and dates for each stock.\n",
    "\n",
    "For this demo solution, we fetch data from three companies listes in the S&P 500 index.\n",
    "\n",
    "* `GOOG` - [Google, LLC](https://en.wikipedia.org/wiki/Google)\n",
    "\n",
    "* `AAPL` - [Apple Inc.](https://en.wikipedia.org/wiki/Apple_Inc.)\n",
    "\n",
    "* `COST` - [Costco Wholesale Corporation](https://en.wikipedia.org/wiki/Costco)"
   ]
  },
  {
   "cell_type": "code",
   "execution_count": 5,
   "metadata": {},
   "outputs": [
    {
     "name": "stdout",
     "output_type": "stream",
     "text": [
      "Collecting yfinance\n",
      "  Downloading yfinance-0.1.70-py2.py3-none-any.whl (26 kB)\n",
      "Requirement already satisfied: numpy>=1.15 in c:\\users\\laree\\anaconda3\\lib\\site-packages (from yfinance) (1.20.3)\n",
      "Collecting multitasking>=0.0.7\n",
      "  Downloading multitasking-0.0.10.tar.gz (8.2 kB)\n",
      "Requirement already satisfied: pandas>=0.24.0 in c:\\users\\laree\\anaconda3\\lib\\site-packages (from yfinance) (1.3.4)\n",
      "Requirement already satisfied: lxml>=4.5.1 in c:\\users\\laree\\anaconda3\\lib\\site-packages (from yfinance) (4.6.3)\n",
      "Requirement already satisfied: requests>=2.26 in c:\\users\\laree\\anaconda3\\lib\\site-packages (from yfinance) (2.26.0)\n",
      "Requirement already satisfied: pytz>=2017.3 in c:\\users\\laree\\anaconda3\\lib\\site-packages (from pandas>=0.24.0->yfinance) (2021.3)\n",
      "Requirement already satisfied: python-dateutil>=2.7.3 in c:\\users\\laree\\anaconda3\\lib\\site-packages (from pandas>=0.24.0->yfinance) (2.8.2)\n",
      "Requirement already satisfied: six>=1.5 in c:\\users\\laree\\anaconda3\\lib\\site-packages (from python-dateutil>=2.7.3->pandas>=0.24.0->yfinance) (1.16.0)\n",
      "Requirement already satisfied: charset-normalizer~=2.0.0 in c:\\users\\laree\\anaconda3\\lib\\site-packages (from requests>=2.26->yfinance) (2.0.4)\n",
      "Requirement already satisfied: idna<4,>=2.5 in c:\\users\\laree\\anaconda3\\lib\\site-packages (from requests>=2.26->yfinance) (3.2)\n",
      "Requirement already satisfied: certifi>=2017.4.17 in c:\\users\\laree\\anaconda3\\lib\\site-packages (from requests>=2.26->yfinance) (2021.10.8)\n",
      "Requirement already satisfied: urllib3<1.27,>=1.21.1 in c:\\users\\laree\\anaconda3\\lib\\site-packages (from requests>=2.26->yfinance) (1.26.7)\n",
      "Building wheels for collected packages: multitasking\n",
      "  Building wheel for multitasking (setup.py): started\n",
      "  Building wheel for multitasking (setup.py): finished with status 'done'\n",
      "  Created wheel for multitasking: filename=multitasking-0.0.10-py3-none-any.whl size=8500 sha256=b5b57c1199313937c40ed25c54978e578008b81c6fbf0978be2f88c9d72f892a\n",
      "  Stored in directory: c:\\users\\laree\\appdata\\local\\pip\\cache\\wheels\\f2\\b5\\2c\\59ba95dcf854e542944c75fe3da584e4e3833b319735a0546c\n",
      "Successfully built multitasking\n",
      "Installing collected packages: multitasking, yfinance\n",
      "Successfully installed multitasking-0.0.10 yfinance-0.1.70\n"
     ]
    }
   ],
   "source": [
    "!pip install yfinance\n",
    "import yfinance as yf"
   ]
  },
  {
   "cell_type": "code",
   "execution_count": 6,
   "metadata": {},
   "outputs": [
    {
     "data": {
      "text/html": [
       "<div>\n",
       "<style scoped>\n",
       "    .dataframe tbody tr th:only-of-type {\n",
       "        vertical-align: middle;\n",
       "    }\n",
       "\n",
       "    .dataframe tbody tr th {\n",
       "        vertical-align: top;\n",
       "    }\n",
       "\n",
       "    .dataframe thead th {\n",
       "        text-align: right;\n",
       "    }\n",
       "</style>\n",
       "<table border=\"1\" class=\"dataframe\">\n",
       "  <thead>\n",
       "    <tr style=\"text-align: right;\">\n",
       "      <th></th>\n",
       "      <th>Open</th>\n",
       "      <th>High</th>\n",
       "      <th>Low</th>\n",
       "      <th>Close</th>\n",
       "      <th>Adj Close</th>\n",
       "      <th>Volume</th>\n",
       "    </tr>\n",
       "    <tr>\n",
       "      <th>Date</th>\n",
       "      <th></th>\n",
       "      <th></th>\n",
       "      <th></th>\n",
       "      <th></th>\n",
       "      <th></th>\n",
       "      <th></th>\n",
       "    </tr>\n",
       "  </thead>\n",
       "  <tbody>\n",
       "    <tr>\n",
       "      <th>2020-12-31</th>\n",
       "      <td>1735.420044</td>\n",
       "      <td>1758.930054</td>\n",
       "      <td>1735.420044</td>\n",
       "      <td>1751.880005</td>\n",
       "      <td>1751.880005</td>\n",
       "      <td>1011900</td>\n",
       "    </tr>\n",
       "    <tr>\n",
       "      <th>2021-01-04</th>\n",
       "      <td>1757.540039</td>\n",
       "      <td>1760.650024</td>\n",
       "      <td>1707.849976</td>\n",
       "      <td>1728.239990</td>\n",
       "      <td>1728.239990</td>\n",
       "      <td>1901900</td>\n",
       "    </tr>\n",
       "    <tr>\n",
       "      <th>2021-01-05</th>\n",
       "      <td>1725.000000</td>\n",
       "      <td>1747.670044</td>\n",
       "      <td>1718.015015</td>\n",
       "      <td>1740.920044</td>\n",
       "      <td>1740.920044</td>\n",
       "      <td>1145300</td>\n",
       "    </tr>\n",
       "    <tr>\n",
       "      <th>2021-01-06</th>\n",
       "      <td>1702.630005</td>\n",
       "      <td>1748.000000</td>\n",
       "      <td>1699.000000</td>\n",
       "      <td>1735.290039</td>\n",
       "      <td>1735.290039</td>\n",
       "      <td>2602100</td>\n",
       "    </tr>\n",
       "    <tr>\n",
       "      <th>2021-01-07</th>\n",
       "      <td>1740.060059</td>\n",
       "      <td>1788.400024</td>\n",
       "      <td>1737.050049</td>\n",
       "      <td>1787.250000</td>\n",
       "      <td>1787.250000</td>\n",
       "      <td>2265000</td>\n",
       "    </tr>\n",
       "  </tbody>\n",
       "</table>\n",
       "</div>"
      ],
      "text/plain": [
       "                   Open         High          Low        Close    Adj Close  \\\n",
       "Date                                                                          \n",
       "2020-12-31  1735.420044  1758.930054  1735.420044  1751.880005  1751.880005   \n",
       "2021-01-04  1757.540039  1760.650024  1707.849976  1728.239990  1728.239990   \n",
       "2021-01-05  1725.000000  1747.670044  1718.015015  1740.920044  1740.920044   \n",
       "2021-01-06  1702.630005  1748.000000  1699.000000  1735.290039  1735.290039   \n",
       "2021-01-07  1740.060059  1788.400024  1737.050049  1787.250000  1787.250000   \n",
       "\n",
       "             Volume  \n",
       "Date                 \n",
       "2020-12-31  1011900  \n",
       "2021-01-04  1901900  \n",
       "2021-01-05  1145300  \n",
       "2021-01-06  2602100  \n",
       "2021-01-07  2265000  "
      ]
     },
     "execution_count": 6,
     "metadata": {},
     "output_type": "execute_result"
    }
   ],
   "source": [
    "# Reading data from 1st stock\n",
    "goog_df = yf.download('GOOG',start='2020-12-31',end='2021-12-31',progress=False,)\n",
    "goog_df.head()"
   ]
  },
  {
   "cell_type": "code",
   "execution_count": 7,
   "metadata": {},
   "outputs": [
    {
     "data": {
      "text/html": [
       "<div>\n",
       "<style scoped>\n",
       "    .dataframe tbody tr th:only-of-type {\n",
       "        vertical-align: middle;\n",
       "    }\n",
       "\n",
       "    .dataframe tbody tr th {\n",
       "        vertical-align: top;\n",
       "    }\n",
       "\n",
       "    .dataframe thead th {\n",
       "        text-align: right;\n",
       "    }\n",
       "</style>\n",
       "<table border=\"1\" class=\"dataframe\">\n",
       "  <thead>\n",
       "    <tr style=\"text-align: right;\">\n",
       "      <th></th>\n",
       "      <th>Open</th>\n",
       "      <th>High</th>\n",
       "      <th>Low</th>\n",
       "      <th>Close</th>\n",
       "      <th>Adj Close</th>\n",
       "      <th>Volume</th>\n",
       "    </tr>\n",
       "    <tr>\n",
       "      <th>Date</th>\n",
       "      <th></th>\n",
       "      <th></th>\n",
       "      <th></th>\n",
       "      <th></th>\n",
       "      <th></th>\n",
       "      <th></th>\n",
       "    </tr>\n",
       "  </thead>\n",
       "  <tbody>\n",
       "    <tr>\n",
       "      <th>2020-12-31</th>\n",
       "      <td>134.080002</td>\n",
       "      <td>134.740005</td>\n",
       "      <td>131.720001</td>\n",
       "      <td>132.690002</td>\n",
       "      <td>131.709198</td>\n",
       "      <td>99116600</td>\n",
       "    </tr>\n",
       "    <tr>\n",
       "      <th>2021-01-04</th>\n",
       "      <td>133.520004</td>\n",
       "      <td>133.610001</td>\n",
       "      <td>126.760002</td>\n",
       "      <td>129.410004</td>\n",
       "      <td>128.453461</td>\n",
       "      <td>143301900</td>\n",
       "    </tr>\n",
       "    <tr>\n",
       "      <th>2021-01-05</th>\n",
       "      <td>128.889999</td>\n",
       "      <td>131.740005</td>\n",
       "      <td>128.429993</td>\n",
       "      <td>131.009995</td>\n",
       "      <td>130.041611</td>\n",
       "      <td>97664900</td>\n",
       "    </tr>\n",
       "    <tr>\n",
       "      <th>2021-01-06</th>\n",
       "      <td>127.720001</td>\n",
       "      <td>131.050003</td>\n",
       "      <td>126.379997</td>\n",
       "      <td>126.599998</td>\n",
       "      <td>125.664215</td>\n",
       "      <td>155088000</td>\n",
       "    </tr>\n",
       "    <tr>\n",
       "      <th>2021-01-07</th>\n",
       "      <td>128.360001</td>\n",
       "      <td>131.630005</td>\n",
       "      <td>127.860001</td>\n",
       "      <td>130.919998</td>\n",
       "      <td>129.952286</td>\n",
       "      <td>109578200</td>\n",
       "    </tr>\n",
       "  </tbody>\n",
       "</table>\n",
       "</div>"
      ],
      "text/plain": [
       "                  Open        High         Low       Close   Adj Close  \\\n",
       "Date                                                                     \n",
       "2020-12-31  134.080002  134.740005  131.720001  132.690002  131.709198   \n",
       "2021-01-04  133.520004  133.610001  126.760002  129.410004  128.453461   \n",
       "2021-01-05  128.889999  131.740005  128.429993  131.009995  130.041611   \n",
       "2021-01-06  127.720001  131.050003  126.379997  126.599998  125.664215   \n",
       "2021-01-07  128.360001  131.630005  127.860001  130.919998  129.952286   \n",
       "\n",
       "               Volume  \n",
       "Date                   \n",
       "2020-12-31   99116600  \n",
       "2021-01-04  143301900  \n",
       "2021-01-05   97664900  \n",
       "2021-01-06  155088000  \n",
       "2021-01-07  109578200  "
      ]
     },
     "execution_count": 7,
     "metadata": {},
     "output_type": "execute_result"
    }
   ],
   "source": [
    "# Reading data from 2nd stock\n",
    "aapl_df = yf.download('AAPL',start='2020-12-31',end='2021-12-31',progress=False,)\n",
    "aapl_df.head()"
   ]
  },
  {
   "cell_type": "code",
   "execution_count": 8,
   "metadata": {},
   "outputs": [
    {
     "data": {
      "text/html": [
       "<div>\n",
       "<style scoped>\n",
       "    .dataframe tbody tr th:only-of-type {\n",
       "        vertical-align: middle;\n",
       "    }\n",
       "\n",
       "    .dataframe tbody tr th {\n",
       "        vertical-align: top;\n",
       "    }\n",
       "\n",
       "    .dataframe thead th {\n",
       "        text-align: right;\n",
       "    }\n",
       "</style>\n",
       "<table border=\"1\" class=\"dataframe\">\n",
       "  <thead>\n",
       "    <tr style=\"text-align: right;\">\n",
       "      <th></th>\n",
       "      <th>Open</th>\n",
       "      <th>High</th>\n",
       "      <th>Low</th>\n",
       "      <th>Close</th>\n",
       "      <th>Adj Close</th>\n",
       "      <th>Volume</th>\n",
       "    </tr>\n",
       "    <tr>\n",
       "      <th>Date</th>\n",
       "      <th></th>\n",
       "      <th></th>\n",
       "      <th></th>\n",
       "      <th></th>\n",
       "      <th></th>\n",
       "      <th></th>\n",
       "    </tr>\n",
       "  </thead>\n",
       "  <tbody>\n",
       "    <tr>\n",
       "      <th>2020-12-31</th>\n",
       "      <td>374.989990</td>\n",
       "      <td>377.040009</td>\n",
       "      <td>372.459991</td>\n",
       "      <td>376.779999</td>\n",
       "      <td>373.360840</td>\n",
       "      <td>1628900</td>\n",
       "    </tr>\n",
       "    <tr>\n",
       "      <th>2021-01-04</th>\n",
       "      <td>377.429993</td>\n",
       "      <td>381.549988</td>\n",
       "      <td>374.809998</td>\n",
       "      <td>380.149994</td>\n",
       "      <td>376.700226</td>\n",
       "      <td>3322200</td>\n",
       "    </tr>\n",
       "    <tr>\n",
       "      <th>2021-01-05</th>\n",
       "      <td>378.859985</td>\n",
       "      <td>380.209991</td>\n",
       "      <td>375.250000</td>\n",
       "      <td>375.739990</td>\n",
       "      <td>372.330292</td>\n",
       "      <td>2748400</td>\n",
       "    </tr>\n",
       "    <tr>\n",
       "      <th>2021-01-06</th>\n",
       "      <td>373.820007</td>\n",
       "      <td>375.799988</td>\n",
       "      <td>369.649994</td>\n",
       "      <td>370.019989</td>\n",
       "      <td>366.662140</td>\n",
       "      <td>2661400</td>\n",
       "    </tr>\n",
       "    <tr>\n",
       "      <th>2021-01-07</th>\n",
       "      <td>371.010010</td>\n",
       "      <td>371.649994</td>\n",
       "      <td>366.790009</td>\n",
       "      <td>367.920013</td>\n",
       "      <td>364.581238</td>\n",
       "      <td>2849500</td>\n",
       "    </tr>\n",
       "  </tbody>\n",
       "</table>\n",
       "</div>"
      ],
      "text/plain": [
       "                  Open        High         Low       Close   Adj Close  \\\n",
       "Date                                                                     \n",
       "2020-12-31  374.989990  377.040009  372.459991  376.779999  373.360840   \n",
       "2021-01-04  377.429993  381.549988  374.809998  380.149994  376.700226   \n",
       "2021-01-05  378.859985  380.209991  375.250000  375.739990  372.330292   \n",
       "2021-01-06  373.820007  375.799988  369.649994  370.019989  366.662140   \n",
       "2021-01-07  371.010010  371.649994  366.790009  367.920013  364.581238   \n",
       "\n",
       "             Volume  \n",
       "Date                 \n",
       "2020-12-31  1628900  \n",
       "2021-01-04  3322200  \n",
       "2021-01-05  2748400  \n",
       "2021-01-06  2661400  \n",
       "2021-01-07  2849500  "
      ]
     },
     "execution_count": 8,
     "metadata": {},
     "output_type": "execute_result"
    }
   ],
   "source": [
    "# Reading data from 3rd stock\n",
    "cost_df = yf.download('COST',start='2020-12-31',end='2021-12-31',progress=False,)\n",
    "cost_df.head()"
   ]
  },
  {
   "cell_type": "code",
   "execution_count": 11,
   "metadata": {},
   "outputs": [
    {
     "data": {
      "text/html": [
       "<div>\n",
       "<style scoped>\n",
       "    .dataframe tbody tr th:only-of-type {\n",
       "        vertical-align: middle;\n",
       "    }\n",
       "\n",
       "    .dataframe tbody tr th {\n",
       "        vertical-align: top;\n",
       "    }\n",
       "\n",
       "    .dataframe thead th {\n",
       "        text-align: right;\n",
       "    }\n",
       "</style>\n",
       "<table border=\"1\" class=\"dataframe\">\n",
       "  <thead>\n",
       "    <tr style=\"text-align: right;\">\n",
       "      <th></th>\n",
       "      <th>Open</th>\n",
       "      <th>High</th>\n",
       "      <th>Low</th>\n",
       "      <th>Close</th>\n",
       "      <th>Adj Close</th>\n",
       "      <th>Volume</th>\n",
       "      <th>Open</th>\n",
       "      <th>High</th>\n",
       "      <th>Low</th>\n",
       "      <th>Close</th>\n",
       "      <th>Adj Close</th>\n",
       "      <th>Volume</th>\n",
       "      <th>Open</th>\n",
       "      <th>High</th>\n",
       "      <th>Low</th>\n",
       "      <th>Close</th>\n",
       "      <th>Adj Close</th>\n",
       "      <th>Volume</th>\n",
       "    </tr>\n",
       "    <tr>\n",
       "      <th>Date</th>\n",
       "      <th></th>\n",
       "      <th></th>\n",
       "      <th></th>\n",
       "      <th></th>\n",
       "      <th></th>\n",
       "      <th></th>\n",
       "      <th></th>\n",
       "      <th></th>\n",
       "      <th></th>\n",
       "      <th></th>\n",
       "      <th></th>\n",
       "      <th></th>\n",
       "      <th></th>\n",
       "      <th></th>\n",
       "      <th></th>\n",
       "      <th></th>\n",
       "      <th></th>\n",
       "      <th></th>\n",
       "    </tr>\n",
       "  </thead>\n",
       "  <tbody>\n",
       "    <tr>\n",
       "      <th>2020-12-31</th>\n",
       "      <td>1735.420044</td>\n",
       "      <td>1758.930054</td>\n",
       "      <td>1735.420044</td>\n",
       "      <td>1751.880005</td>\n",
       "      <td>1751.880005</td>\n",
       "      <td>1011900</td>\n",
       "      <td>134.080002</td>\n",
       "      <td>134.740005</td>\n",
       "      <td>131.720001</td>\n",
       "      <td>132.690002</td>\n",
       "      <td>131.709198</td>\n",
       "      <td>99116600</td>\n",
       "      <td>374.989990</td>\n",
       "      <td>377.040009</td>\n",
       "      <td>372.459991</td>\n",
       "      <td>376.779999</td>\n",
       "      <td>373.360840</td>\n",
       "      <td>1628900</td>\n",
       "    </tr>\n",
       "    <tr>\n",
       "      <th>2021-01-04</th>\n",
       "      <td>1757.540039</td>\n",
       "      <td>1760.650024</td>\n",
       "      <td>1707.849976</td>\n",
       "      <td>1728.239990</td>\n",
       "      <td>1728.239990</td>\n",
       "      <td>1901900</td>\n",
       "      <td>133.520004</td>\n",
       "      <td>133.610001</td>\n",
       "      <td>126.760002</td>\n",
       "      <td>129.410004</td>\n",
       "      <td>128.453461</td>\n",
       "      <td>143301900</td>\n",
       "      <td>377.429993</td>\n",
       "      <td>381.549988</td>\n",
       "      <td>374.809998</td>\n",
       "      <td>380.149994</td>\n",
       "      <td>376.700226</td>\n",
       "      <td>3322200</td>\n",
       "    </tr>\n",
       "    <tr>\n",
       "      <th>2021-01-05</th>\n",
       "      <td>1725.000000</td>\n",
       "      <td>1747.670044</td>\n",
       "      <td>1718.015015</td>\n",
       "      <td>1740.920044</td>\n",
       "      <td>1740.920044</td>\n",
       "      <td>1145300</td>\n",
       "      <td>128.889999</td>\n",
       "      <td>131.740005</td>\n",
       "      <td>128.429993</td>\n",
       "      <td>131.009995</td>\n",
       "      <td>130.041611</td>\n",
       "      <td>97664900</td>\n",
       "      <td>378.859985</td>\n",
       "      <td>380.209991</td>\n",
       "      <td>375.250000</td>\n",
       "      <td>375.739990</td>\n",
       "      <td>372.330292</td>\n",
       "      <td>2748400</td>\n",
       "    </tr>\n",
       "    <tr>\n",
       "      <th>2021-01-06</th>\n",
       "      <td>1702.630005</td>\n",
       "      <td>1748.000000</td>\n",
       "      <td>1699.000000</td>\n",
       "      <td>1735.290039</td>\n",
       "      <td>1735.290039</td>\n",
       "      <td>2602100</td>\n",
       "      <td>127.720001</td>\n",
       "      <td>131.050003</td>\n",
       "      <td>126.379997</td>\n",
       "      <td>126.599998</td>\n",
       "      <td>125.664215</td>\n",
       "      <td>155088000</td>\n",
       "      <td>373.820007</td>\n",
       "      <td>375.799988</td>\n",
       "      <td>369.649994</td>\n",
       "      <td>370.019989</td>\n",
       "      <td>366.662140</td>\n",
       "      <td>2661400</td>\n",
       "    </tr>\n",
       "    <tr>\n",
       "      <th>2021-01-07</th>\n",
       "      <td>1740.060059</td>\n",
       "      <td>1788.400024</td>\n",
       "      <td>1737.050049</td>\n",
       "      <td>1787.250000</td>\n",
       "      <td>1787.250000</td>\n",
       "      <td>2265000</td>\n",
       "      <td>128.360001</td>\n",
       "      <td>131.630005</td>\n",
       "      <td>127.860001</td>\n",
       "      <td>130.919998</td>\n",
       "      <td>129.952286</td>\n",
       "      <td>109578200</td>\n",
       "      <td>371.010010</td>\n",
       "      <td>371.649994</td>\n",
       "      <td>366.790009</td>\n",
       "      <td>367.920013</td>\n",
       "      <td>364.581238</td>\n",
       "      <td>2849500</td>\n",
       "    </tr>\n",
       "  </tbody>\n",
       "</table>\n",
       "</div>"
      ],
      "text/plain": [
       "                   Open         High          Low        Close    Adj Close  \\\n",
       "Date                                                                          \n",
       "2020-12-31  1735.420044  1758.930054  1735.420044  1751.880005  1751.880005   \n",
       "2021-01-04  1757.540039  1760.650024  1707.849976  1728.239990  1728.239990   \n",
       "2021-01-05  1725.000000  1747.670044  1718.015015  1740.920044  1740.920044   \n",
       "2021-01-06  1702.630005  1748.000000  1699.000000  1735.290039  1735.290039   \n",
       "2021-01-07  1740.060059  1788.400024  1737.050049  1787.250000  1787.250000   \n",
       "\n",
       "             Volume        Open        High         Low       Close  \\\n",
       "Date                                                                  \n",
       "2020-12-31  1011900  134.080002  134.740005  131.720001  132.690002   \n",
       "2021-01-04  1901900  133.520004  133.610001  126.760002  129.410004   \n",
       "2021-01-05  1145300  128.889999  131.740005  128.429993  131.009995   \n",
       "2021-01-06  2602100  127.720001  131.050003  126.379997  126.599998   \n",
       "2021-01-07  2265000  128.360001  131.630005  127.860001  130.919998   \n",
       "\n",
       "             Adj Close     Volume        Open        High         Low  \\\n",
       "Date                                                                    \n",
       "2020-12-31  131.709198   99116600  374.989990  377.040009  372.459991   \n",
       "2021-01-04  128.453461  143301900  377.429993  381.549988  374.809998   \n",
       "2021-01-05  130.041611   97664900  378.859985  380.209991  375.250000   \n",
       "2021-01-06  125.664215  155088000  373.820007  375.799988  369.649994   \n",
       "2021-01-07  129.952286  109578200  371.010010  371.649994  366.790009   \n",
       "\n",
       "                 Close   Adj Close   Volume  \n",
       "Date                                         \n",
       "2020-12-31  376.779999  373.360840  1628900  \n",
       "2021-01-04  380.149994  376.700226  3322200  \n",
       "2021-01-05  375.739990  372.330292  2748400  \n",
       "2021-01-06  370.019989  366.662140  2661400  \n",
       "2021-01-07  367.920013  364.581238  2849500  "
      ]
     },
     "execution_count": 11,
     "metadata": {},
     "output_type": "execute_result"
    }
   ],
   "source": [
    "# Combine all stocks in a single DataFrame\n",
    "stocks_return = pd.concat([goog_df, aapl_df, cost_df],axis=\"columns\", join=\"inner\")\n",
    "stocks_return.head()"
   ]
  },
  {
   "cell_type": "code",
   "execution_count": 12,
   "metadata": {},
   "outputs": [
    {
     "data": {
      "text/html": [
       "<div>\n",
       "<style scoped>\n",
       "    .dataframe tbody tr th:only-of-type {\n",
       "        vertical-align: middle;\n",
       "    }\n",
       "\n",
       "    .dataframe tbody tr th {\n",
       "        vertical-align: top;\n",
       "    }\n",
       "\n",
       "    .dataframe thead th {\n",
       "        text-align: right;\n",
       "    }\n",
       "</style>\n",
       "<table border=\"1\" class=\"dataframe\">\n",
       "  <thead>\n",
       "    <tr style=\"text-align: right;\">\n",
       "      <th></th>\n",
       "      <th>Open</th>\n",
       "      <th>High</th>\n",
       "      <th>Low</th>\n",
       "      <th>Close</th>\n",
       "      <th>Adj Close</th>\n",
       "      <th>Volume</th>\n",
       "      <th>Open</th>\n",
       "      <th>High</th>\n",
       "      <th>Low</th>\n",
       "      <th>Close</th>\n",
       "      <th>Adj Close</th>\n",
       "      <th>Volume</th>\n",
       "      <th>Open</th>\n",
       "      <th>High</th>\n",
       "      <th>Low</th>\n",
       "      <th>Close</th>\n",
       "      <th>Adj Close</th>\n",
       "      <th>Volume</th>\n",
       "    </tr>\n",
       "    <tr>\n",
       "      <th>Date</th>\n",
       "      <th></th>\n",
       "      <th></th>\n",
       "      <th></th>\n",
       "      <th></th>\n",
       "      <th></th>\n",
       "      <th></th>\n",
       "      <th></th>\n",
       "      <th></th>\n",
       "      <th></th>\n",
       "      <th></th>\n",
       "      <th></th>\n",
       "      <th></th>\n",
       "      <th></th>\n",
       "      <th></th>\n",
       "      <th></th>\n",
       "      <th></th>\n",
       "      <th></th>\n",
       "      <th></th>\n",
       "    </tr>\n",
       "  </thead>\n",
       "  <tbody>\n",
       "    <tr>\n",
       "      <th>2020-12-31</th>\n",
       "      <td>1735.420044</td>\n",
       "      <td>1758.930054</td>\n",
       "      <td>1735.420044</td>\n",
       "      <td>1751.880005</td>\n",
       "      <td>1751.880005</td>\n",
       "      <td>1011900</td>\n",
       "      <td>134.080002</td>\n",
       "      <td>134.740005</td>\n",
       "      <td>131.720001</td>\n",
       "      <td>132.690002</td>\n",
       "      <td>131.709198</td>\n",
       "      <td>99116600</td>\n",
       "      <td>374.989990</td>\n",
       "      <td>377.040009</td>\n",
       "      <td>372.459991</td>\n",
       "      <td>376.779999</td>\n",
       "      <td>373.360840</td>\n",
       "      <td>1628900</td>\n",
       "    </tr>\n",
       "    <tr>\n",
       "      <th>2021-01-04</th>\n",
       "      <td>1757.540039</td>\n",
       "      <td>1760.650024</td>\n",
       "      <td>1707.849976</td>\n",
       "      <td>1728.239990</td>\n",
       "      <td>1728.239990</td>\n",
       "      <td>1901900</td>\n",
       "      <td>133.520004</td>\n",
       "      <td>133.610001</td>\n",
       "      <td>126.760002</td>\n",
       "      <td>129.410004</td>\n",
       "      <td>128.453461</td>\n",
       "      <td>143301900</td>\n",
       "      <td>377.429993</td>\n",
       "      <td>381.549988</td>\n",
       "      <td>374.809998</td>\n",
       "      <td>380.149994</td>\n",
       "      <td>376.700226</td>\n",
       "      <td>3322200</td>\n",
       "    </tr>\n",
       "    <tr>\n",
       "      <th>2021-01-05</th>\n",
       "      <td>1725.000000</td>\n",
       "      <td>1747.670044</td>\n",
       "      <td>1718.015015</td>\n",
       "      <td>1740.920044</td>\n",
       "      <td>1740.920044</td>\n",
       "      <td>1145300</td>\n",
       "      <td>128.889999</td>\n",
       "      <td>131.740005</td>\n",
       "      <td>128.429993</td>\n",
       "      <td>131.009995</td>\n",
       "      <td>130.041611</td>\n",
       "      <td>97664900</td>\n",
       "      <td>378.859985</td>\n",
       "      <td>380.209991</td>\n",
       "      <td>375.250000</td>\n",
       "      <td>375.739990</td>\n",
       "      <td>372.330292</td>\n",
       "      <td>2748400</td>\n",
       "    </tr>\n",
       "    <tr>\n",
       "      <th>2021-01-06</th>\n",
       "      <td>1702.630005</td>\n",
       "      <td>1748.000000</td>\n",
       "      <td>1699.000000</td>\n",
       "      <td>1735.290039</td>\n",
       "      <td>1735.290039</td>\n",
       "      <td>2602100</td>\n",
       "      <td>127.720001</td>\n",
       "      <td>131.050003</td>\n",
       "      <td>126.379997</td>\n",
       "      <td>126.599998</td>\n",
       "      <td>125.664215</td>\n",
       "      <td>155088000</td>\n",
       "      <td>373.820007</td>\n",
       "      <td>375.799988</td>\n",
       "      <td>369.649994</td>\n",
       "      <td>370.019989</td>\n",
       "      <td>366.662140</td>\n",
       "      <td>2661400</td>\n",
       "    </tr>\n",
       "    <tr>\n",
       "      <th>2021-01-07</th>\n",
       "      <td>1740.060059</td>\n",
       "      <td>1788.400024</td>\n",
       "      <td>1737.050049</td>\n",
       "      <td>1787.250000</td>\n",
       "      <td>1787.250000</td>\n",
       "      <td>2265000</td>\n",
       "      <td>128.360001</td>\n",
       "      <td>131.630005</td>\n",
       "      <td>127.860001</td>\n",
       "      <td>130.919998</td>\n",
       "      <td>129.952286</td>\n",
       "      <td>109578200</td>\n",
       "      <td>371.010010</td>\n",
       "      <td>371.649994</td>\n",
       "      <td>366.790009</td>\n",
       "      <td>367.920013</td>\n",
       "      <td>364.581238</td>\n",
       "      <td>2849500</td>\n",
       "    </tr>\n",
       "  </tbody>\n",
       "</table>\n",
       "</div>"
      ],
      "text/plain": [
       "                   Open         High          Low        Close    Adj Close  \\\n",
       "Date                                                                          \n",
       "2020-12-31  1735.420044  1758.930054  1735.420044  1751.880005  1751.880005   \n",
       "2021-01-04  1757.540039  1760.650024  1707.849976  1728.239990  1728.239990   \n",
       "2021-01-05  1725.000000  1747.670044  1718.015015  1740.920044  1740.920044   \n",
       "2021-01-06  1702.630005  1748.000000  1699.000000  1735.290039  1735.290039   \n",
       "2021-01-07  1740.060059  1788.400024  1737.050049  1787.250000  1787.250000   \n",
       "\n",
       "             Volume        Open        High         Low       Close  \\\n",
       "Date                                                                  \n",
       "2020-12-31  1011900  134.080002  134.740005  131.720001  132.690002   \n",
       "2021-01-04  1901900  133.520004  133.610001  126.760002  129.410004   \n",
       "2021-01-05  1145300  128.889999  131.740005  128.429993  131.009995   \n",
       "2021-01-06  2602100  127.720001  131.050003  126.379997  126.599998   \n",
       "2021-01-07  2265000  128.360001  131.630005  127.860001  130.919998   \n",
       "\n",
       "             Adj Close     Volume        Open        High         Low  \\\n",
       "Date                                                                    \n",
       "2020-12-31  131.709198   99116600  374.989990  377.040009  372.459991   \n",
       "2021-01-04  128.453461  143301900  377.429993  381.549988  374.809998   \n",
       "2021-01-05  130.041611   97664900  378.859985  380.209991  375.250000   \n",
       "2021-01-06  125.664215  155088000  373.820007  375.799988  369.649994   \n",
       "2021-01-07  129.952286  109578200  371.010010  371.649994  366.790009   \n",
       "\n",
       "                 Close   Adj Close   Volume  \n",
       "Date                                         \n",
       "2020-12-31  376.779999  373.360840  1628900  \n",
       "2021-01-04  380.149994  376.700226  3322200  \n",
       "2021-01-05  375.739990  372.330292  2748400  \n",
       "2021-01-06  370.019989  366.662140  2661400  \n",
       "2021-01-07  367.920013  364.581238  2849500  "
      ]
     },
     "execution_count": 12,
     "metadata": {},
     "output_type": "execute_result"
    }
   ],
   "source": [
    "# Reset Date index\n",
    "stocks_return.reset_index(\"Date\") \n",
    "stocks_return.head()"
   ]
  },
  {
   "cell_type": "code",
   "execution_count": 13,
   "metadata": {},
   "outputs": [
    {
     "data": {
      "text/plain": [
       "['Adj Close',\n",
       " 'Adj Close',\n",
       " 'Adj Close',\n",
       " 'Close',\n",
       " 'Close',\n",
       " 'Close',\n",
       " 'High',\n",
       " 'High',\n",
       " 'High',\n",
       " 'Low',\n",
       " 'Low',\n",
       " 'Low',\n",
       " 'Open',\n",
       " 'Open',\n",
       " 'Open',\n",
       " 'Volume',\n",
       " 'Volume',\n",
       " 'Volume']"
      ]
     },
     "execution_count": 13,
     "metadata": {},
     "output_type": "execute_result"
    }
   ],
   "source": [
    "# Reorganize portfolio data by having a column per symbol\n",
    "sorted(stocks_return)"
   ]
  },
  {
   "cell_type": "code",
   "execution_count": null,
   "metadata": {},
   "outputs": [],
   "source": [
    "# Calculate daily returns\n",
    "daily_returns = portfolio.pct_change()\n",
    "\n",
    "# Drop NAs\n",
    "daily_returns = daily_returns.dropna().copy()\n",
    "\n",
    "# Display sample data\n",
    "daily_returns.head()"
   ]
  },
  {
   "cell_type": "markdown",
   "metadata": {},
   "source": [
    "## Calculate the weighted returns for the portfolio assuming an equal number of shares for each stock"
   ]
  },
  {
   "cell_type": "code",
   "execution_count": null,
   "metadata": {},
   "outputs": [],
   "source": [
    "# Set weights\n",
    "weights = [1/3, 1/3, 1/3]\n",
    "\n",
    "# Calculate portfolio return\n",
    "portfolio_returns = daily_returns.dot(weights)\n",
    "\n",
    "# Display sample data\n",
    "portfolio_returns.head()"
   ]
  },
  {
   "cell_type": "markdown",
   "metadata": {},
   "source": [
    "## Join your portfolio returns to the DataFrame that contains all of the portfolio returns"
   ]
  },
  {
   "cell_type": "code",
   "execution_count": null,
   "metadata": {},
   "outputs": [],
   "source": [
    "# Join your returns DataFrame to the original returns DataFrame\n",
    "all_portfolios[\"Custom\"] = portfolio_returns"
   ]
  },
  {
   "cell_type": "code",
   "execution_count": null,
   "metadata": {},
   "outputs": [],
   "source": [
    "# Only compare dates where return data exists for all the stocks (drop NaNs)\n",
    "all_portfolios = all_portfolios.dropna().copy()"
   ]
  },
  {
   "cell_type": "markdown",
   "metadata": {},
   "source": [
    "## Re-run the risk analysis with your portfolio to see how it compares to the others"
   ]
  },
  {
   "cell_type": "markdown",
   "metadata": {},
   "source": [
    "### Calculate the Annualized Standard Deviation"
   ]
  },
  {
   "cell_type": "code",
   "execution_count": null,
   "metadata": {},
   "outputs": [],
   "source": [
    "# Calculate the annualized `std`\n",
    "astd = all_portfolios.astd() * np.sqrt(252)"
   ]
  },
  {
   "cell_type": "markdown",
   "metadata": {},
   "source": [
    "### Calculate and plot rolling `std` with 21-day window"
   ]
  },
  {
   "cell_type": "code",
   "execution_count": null,
   "metadata": {},
   "outputs": [],
   "source": [
    "# Calculate rolling standard deviation\n",
    "rolling_std_dev = all_portfolios.rolling(window=21).std()\n",
    "\n",
    "# Plot rolling standard deviation\n",
    "rolling_std_dev.plot(figsize=(20, 10), title=\"21 Day Rolling STD\")"
   ]
  },
  {
   "cell_type": "markdown",
   "metadata": {},
   "source": [
    "### Calculate and plot the correlation"
   ]
  },
  {
   "cell_type": "code",
   "execution_count": null,
   "metadata": {},
   "outputs": [],
   "source": [
    "# Calculate and plot the correlation\n",
    "df = all_portfolios.corr()\n",
    "df.style.background_gradient(cmap=\"bwr\")"
   ]
  },
  {
   "cell_type": "markdown",
   "metadata": {},
   "source": [
    "### Calculate and Plot Rolling 60-day Beta for Your Portfolio compared to the S&P 500"
   ]
  },
  {
   "cell_type": "code",
   "execution_count": null,
   "metadata": {},
   "outputs": [],
   "source": [
    "# Calculate and plot Beta\n",
    "covariance = all_portfolios[\"Custom\"].rolling(window=60).cov(all_portfolios[\"S&P 500\"])\n",
    "variance = all_portfolios[\"S&P 500\"].rolling(60).var()\n",
    "beta = (covariance / variance)\n",
    "beta.plot(figsize=(20, 10), title=\"Cstm Beta\")"
   ]
  },
  {
   "cell_type": "markdown",
   "metadata": {},
   "source": [
    "### Using the daily returns, calculate and visualize the Sharpe ratios using a bar plot"
   ]
  },
  {
   "cell_type": "code",
   "execution_count": null,
   "metadata": {},
   "outputs": [],
   "source": [
    "# Calculate Annualzied Sharpe Ratios\n",
    "sharpe_ratios = (all_portfolios.mean() * 252) / (all_portfolios.std() * np.sqrt(252))"
   ]
  },
  {
   "cell_type": "code",
   "execution_count": null,
   "metadata": {},
   "outputs": [],
   "source": [
    "# Visualize the sharpe ratios as a bar plot\n",
    "sharpe_ratios.plot(kind=\"bar\", title=\"Sharpe Ratios\")"
   ]
  },
  {
   "cell_type": "markdown",
   "metadata": {},
   "source": [
    "### How does your portfolio do?\n",
    "\n",
    "Write your answer here!"
   ]
  },
  {
   "cell_type": "code",
   "execution_count": null,
   "metadata": {},
   "outputs": [],
   "source": []
  }
 ],
 "metadata": {
  "file_extension": ".py",
  "kernelspec": {
   "display_name": "Python 3 (ipykernel)",
   "language": "python",
   "name": "python3"
  },
  "language_info": {
   "codemirror_mode": {
    "name": "ipython",
    "version": 3
   },
   "file_extension": ".py",
   "mimetype": "text/x-python",
   "name": "python",
   "nbconvert_exporter": "python",
   "pygments_lexer": "ipython3",
   "version": "3.9.7"
  },
  "mimetype": "text/x-python",
  "name": "python",
  "npconvert_exporter": "python",
  "pygments_lexer": "ipython3",
  "version": 3
 },
 "nbformat": 4,
 "nbformat_minor": 4
}
